{
 "cells": [
  {
   "cell_type": "code",
   "execution_count": null,
   "metadata": {
    "ExecuteTime": {
     "end_time": "2017-04-20T07:29:24.391696Z",
     "start_time": "2017-04-20T07:29:24.384804Z"
    },
    "run_control": {
     "frozen": false,
     "read_only": false
    }
   },
   "outputs": [],
   "source": [
    "import numpy as np\n",
    "\n",
    "import matplotlib\n",
    "import matplotlib.pyplot as plt\n",
    "from matplotlib.pyplot import imshow\n",
    "%matplotlib inline\n",
    "plt.gray();\n",
    "\n",
    "import sklearn\n",
    "from sklearn.datasets import fetch_olivetti_faces\n",
    "from sklearn.model_selection import StratifiedShuffleSplit\n",
    "\n",
    "from sklearn.svm import SVC\n",
    "from sklearn.neighbors import KNeighborsClassifier as kNN\n",
    "from sklearn.ensemble import RandomForestClassifier as RandomForest\n",
    "from sklearn.ensemble import AdaBoostClassifier as AdaBoost\n",
    "\n",
    "\n",
    "from ipywidgets import interact, interactive, fixed, RadioButtons\n",
    "import ipywidgets as widgets\n",
    "from IPython.display import display"
   ]
  },
  {
   "cell_type": "code",
   "execution_count": null,
   "metadata": {},
   "outputs": [],
   "source": [
    "def show_dataset(X, N, max_size=400):\n",
    "\n",
    "    plt.figure(figsize=(20, 20))\n",
    "    for i, f in enumerate(X[:max_size]):\n",
    "        plt.subplot(20, 20, i + 1)\n",
    "\n",
    "        plt.imshow(f.reshape((N, N)), vmax=1)\n",
    "\n",
    "        plt.axis('off')\n",
    "\n",
    "    plt.show()"
   ]
  },
  {
   "cell_type": "markdown",
   "metadata": {},
   "source": [
    "# dataset"
   ]
  },
  {
   "cell_type": "code",
   "execution_count": null,
   "metadata": {},
   "outputs": [],
   "source": [
    "dataset = fetch_olivetti_faces(shuffle=False)\n",
    "X = dataset.data\n",
    "print(X.shape[0]) # number of samples"
   ]
  },
  {
   "cell_type": "code",
   "execution_count": null,
   "metadata": {},
   "outputs": [],
   "source": [
    "show_dataset(X, N=64)"
   ]
  },
  {
   "cell_type": "code",
   "execution_count": null,
   "metadata": {
    "scrolled": false
   },
   "outputs": [],
   "source": [
    "y = dataset.target # ラベル\n",
    "print(y)"
   ]
  },
  {
   "cell_type": "markdown",
   "metadata": {},
   "source": [
    "学習セットとテストセットの分割"
   ]
  },
  {
   "cell_type": "code",
   "execution_count": null,
   "metadata": {},
   "outputs": [],
   "source": [
    "ss = StratifiedShuffleSplit(n_splits=1,      # 分割を1個生成\n",
    "                            train_size=0.5,  # 学習は半分\n",
    "                            test_size=0.5)   # テストも半分"
   ]
  },
  {
   "cell_type": "code",
   "execution_count": null,
   "metadata": {},
   "outputs": [],
   "source": [
    "train_index, test_index = next(ss.split(X, y))\n",
    "\n",
    "X_train, X_test = X[train_index], X[test_index] # 学習データ，テストデータ\n",
    "y_train, y_test = y[train_index], y[test_index] # 学習データのラベル，テストデータのラベル"
   ]
  },
  {
   "cell_type": "code",
   "execution_count": null,
   "metadata": {},
   "outputs": [],
   "source": []
  },
  {
   "cell_type": "markdown",
   "metadata": {},
   "source": [
    "# kNN"
   ]
  },
  {
   "cell_type": "code",
   "execution_count": null,
   "metadata": {},
   "outputs": [],
   "source": [
    "k_vals = [1, 2, 3, 10]\n",
    "clfs = {}\n",
    "\n",
    "for k in k_vals:\n",
    "    \n",
    "    clf = kNN(n_neighbors=k)\n",
    "    clf.fit(X_train, y_train)\n",
    "    \n",
    "    clfs[k] = clf\n",
    "    print(k, 'training accuracy', clf.score(X_train, y_train))\n",
    "    print(k, 'test     accuracy', clf.score(X_test, y_test))"
   ]
  },
  {
   "cell_type": "code",
   "execution_count": null,
   "metadata": {},
   "outputs": [],
   "source": [
    "@interact(sample=(0, len(y)-1, 1),\n",
    "          k=(1, 3, 1)\n",
    "         )\n",
    "def g(sample=0, k=1):\n",
    "    \n",
    "    imshow(X[sample].reshape(64,64), vmin=0, vmax=1)\n",
    "    clf = clfs[k]\n",
    "    y_pred = clf.predict(X[sample, np.newaxis])[0]\n",
    "    \n",
    "    istrain = 'train' if sample in train_index else 'test'\n",
    "    \n",
    "    plt.axis('off')\n",
    "    plt.title('{2}: true {0} predict {1}'.format(y[sample], y_pred, istrain))"
   ]
  },
  {
   "cell_type": "code",
   "execution_count": null,
   "metadata": {},
   "outputs": [],
   "source": []
  },
  {
   "cell_type": "markdown",
   "metadata": {},
   "source": [
    "# SVM"
   ]
  },
  {
   "cell_type": "code",
   "execution_count": null,
   "metadata": {},
   "outputs": [],
   "source": [
    "kernels = ['linear', 'poly', 'rbf']\n",
    "clfs = {}\n",
    "\n",
    "for kernel in kernels:\n",
    "    \n",
    "    clf = SVC(kernel=kernel)\n",
    "    clf.fit(X_train, y_train)\n",
    "    \n",
    "    clfs[kernel] = clf\n",
    "    print(kernel, 'training accuracy', clf.score(X_train, y_train))\n",
    "    print(kernel, 'test     accuracy', clf.score(X_test, y_test))"
   ]
  },
  {
   "cell_type": "code",
   "execution_count": null,
   "metadata": {
    "scrolled": false
   },
   "outputs": [],
   "source": [
    "@interact(sample=(0, len(y)-1, 1),\n",
    "          kernel=RadioButtons(options=kernels)\n",
    "         )\n",
    "def g(sample=0, kernel='linear'):\n",
    "    \n",
    "    imshow(X[sample].reshape(64,64), vmin=0, vmax=1)\n",
    "    clf = clfs[kernel]\n",
    "    y_pred = clf.predict(X[sample, np.newaxis])[0]\n",
    "    \n",
    "    istrain = 'train' if sample in train_index else 'test'\n",
    "    \n",
    "    plt.axis('off')\n",
    "    plt.title('{2}: true {0} predict {1}'.format(y[sample], y_pred, istrain))"
   ]
  },
  {
   "cell_type": "code",
   "execution_count": null,
   "metadata": {},
   "outputs": [],
   "source": []
  },
  {
   "cell_type": "markdown",
   "metadata": {},
   "source": [
    "# Random Forest"
   ]
  },
  {
   "cell_type": "code",
   "execution_count": null,
   "metadata": {},
   "outputs": [],
   "source": [
    "n_vals = [10, 100, 500, 1000]\n",
    "clfs = {}\n",
    "\n",
    "for n in n_vals:\n",
    "    \n",
    "    clf = RandomForest(n_estimators=n)\n",
    "    clf.fit(X_train, y_train)\n",
    "    \n",
    "    clfs[n] = clf\n",
    "    print(n, 'training accuracy', clf.score(X_train, y_train))\n",
    "    print(n, 'test     accuracy', clf.score(X_test, y_test))"
   ]
  },
  {
   "cell_type": "code",
   "execution_count": null,
   "metadata": {},
   "outputs": [],
   "source": [
    "@interact(sample=(0, len(y)-1, 1),\n",
    "          n=RadioButtons(options=n_vals)\n",
    "         )\n",
    "def g(sample=0, n=100):\n",
    "    \n",
    "    imshow(X[sample].reshape(64,64), vmin=0, vmax=1)\n",
    "    clf = clfs[n]\n",
    "    y_pred = clf.predict(X[sample, np.newaxis])[0]\n",
    "    \n",
    "    istrain = 'train' if sample in train_index else 'test'\n",
    "    \n",
    "    plt.axis('off')\n",
    "    plt.title('{2}: true {0} predict {1}'.format(y[sample], y_pred, istrain))"
   ]
  },
  {
   "cell_type": "code",
   "execution_count": null,
   "metadata": {},
   "outputs": [],
   "source": []
  },
  {
   "cell_type": "markdown",
   "metadata": {},
   "source": [
    "# AdaBoost"
   ]
  },
  {
   "cell_type": "code",
   "execution_count": null,
   "metadata": {},
   "outputs": [],
   "source": [
    "n_vals = [10, 100, 200]\n",
    "clfs = {}\n",
    "\n",
    "for n in n_vals:\n",
    "    \n",
    "#     clf = AdaBoost(n_estimators=n)\n",
    "    clf = AdaBoost(n_estimators=n, learning_rate=0.01)\n",
    "    clf.fit(X_train, y_train)\n",
    "    \n",
    "    clfs[n] = clf\n",
    "    print(n, 'training accuracy', clf.score(X_train, y_train))\n",
    "    print(n, 'test     accuracy', clf.score(X_test, y_test))"
   ]
  },
  {
   "cell_type": "code",
   "execution_count": null,
   "metadata": {
    "scrolled": false
   },
   "outputs": [],
   "source": [
    "@interact(sample=(0, len(y)-1, 1),\n",
    "          n=RadioButtons(options=n_vals)\n",
    "         )\n",
    "def g(sample=0, n=100):\n",
    "    \n",
    "    imshow(X[sample].reshape(64,64), vmin=0, vmax=1)\n",
    "    clf = clfs[n]\n",
    "    y_pred = clf.predict(X[sample, np.newaxis])[0]\n",
    "    \n",
    "    istrain = 'train' if sample in train_index else 'test'\n",
    "    \n",
    "    plt.axis('off')\n",
    "    plt.title('{2}: true {0} predict {1}'.format(y[sample], y_pred, istrain))"
   ]
  },
  {
   "cell_type": "code",
   "execution_count": null,
   "metadata": {},
   "outputs": [],
   "source": []
  },
  {
   "cell_type": "code",
   "execution_count": null,
   "metadata": {},
   "outputs": [],
   "source": []
  },
  {
   "cell_type": "code",
   "execution_count": null,
   "metadata": {},
   "outputs": [],
   "source": []
  },
  {
   "cell_type": "code",
   "execution_count": null,
   "metadata": {},
   "outputs": [],
   "source": []
  }
 ],
 "metadata": {
  "kernelspec": {
   "display_name": "Python 3",
   "language": "python",
   "name": "python3"
  },
  "language_info": {
   "codemirror_mode": {
    "name": "ipython",
    "version": 3
   },
   "file_extension": ".py",
   "mimetype": "text/x-python",
   "name": "python",
   "nbconvert_exporter": "python",
   "pygments_lexer": "ipython3",
   "version": "3.7.7"
  },
  "toc": {
   "base_numbering": 1,
   "nav_menu": {
    "height": "12px",
    "width": "252px"
   },
   "number_sections": true,
   "sideBar": false,
   "skip_h1_title": false,
   "title_cell": "Table of Contents",
   "title_sidebar": "Contents",
   "toc_cell": false,
   "toc_position": {
    "height": "1149px",
    "left": "64px",
    "top": "150px",
    "width": "256px"
   },
   "toc_section_display": true,
   "toc_window_display": false
  }
 },
 "nbformat": 4,
 "nbformat_minor": 2
}
